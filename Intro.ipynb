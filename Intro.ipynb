{
  "nbformat": 4,
  "nbformat_minor": 0,
  "metadata": {
    "colab": {
      "provenance": [],
      "authorship_tag": "ABX9TyMovemzA6tlvesPYyGkg1Un",
      "include_colab_link": true
    },
    "kernelspec": {
      "name": "python3",
      "display_name": "Python 3"
    },
    "language_info": {
      "name": "python"
    }
  },
  "cells": [
    {
      "cell_type": "markdown",
      "metadata": {
        "id": "view-in-github",
        "colab_type": "text"
      },
      "source": [
        "<a href=\"https://colab.research.google.com/github/Sheady0117/Learning-Python/blob/main/Intro.ipynb\" target=\"_parent\"><img src=\"https://colab.research.google.com/assets/colab-badge.svg\" alt=\"Open In Colab\"/></a>"
      ]
    },
    {
      "cell_type": "markdown",
      "source": [
        "#Introduction to Python\n",
        "\n",
        "  \n",
        "Python is a statically typed interprited programming language. It supports object oriented, functional programming, and scripting. This means the following\n",
        "\n",
        "1) Any code that you write will be executed in the order that they are written. \n",
        "\n",
        "2) Interprited programming languages are converted into an intermediary language and then to machine code which runable by the computer. the program that does this is known as the interpriter. Interprited languages are interprited at run time. Other languages like C and C++ are compiled meaning that a program known as the compiler converts these languages into directly machine code prior to run time. \n",
        "\n",
        "3) I will go into this in more detail later, however for statistical computations you'll typically either be scripting or programming functionally.\n",
        "\n",
        "Now that I've mentioned that Let me get into the first example."
      ],
      "metadata": {
        "id": "HWBdPZLzNWEB"
      }
    },
    {
      "cell_type": "markdown",
      "source": [
        "___________________________________\n",
        "\n",
        "#Data Types\n",
        "\n",
        "In programming there are different data types that you work with. Below I've listed the most common ones\n",
        "\n",
        "*   Chr - These are single characters for example [ 'a', 'b', '~', '!' ]\n",
        "*   String - These are groups of Chrs for example [\"The cat purs.\"]\n",
        "*   Int - These are numbers that do not have a decimal point. They can be negative or positive. For example [1, 2, -1, 100]\n",
        "*   Double/Float - These are numbers that have a decimal point and can be positive or negative for example [1.5, 6.0, -100.01099]\n",
        "\n",
        "\n",
        "\n",
        "You can only do mathematical operations with Ints and Doubles, however you can cast a number that is saved as a string to an int or a double to do operations as well. But more on that later. \n",
        "\n",
        "\n",
        "\n",
        "\n"
      ],
      "metadata": {
        "id": "lXvF4dt8Zv6y"
      }
    },
    {
      "cell_type": "markdown",
      "source": [
        "_____________________________________________________\n",
        "\n",
        "#Basic Input and Output\n",
        "\n",
        "To begin with we'll be working with program I/O which stants for Input/Output. We'll start with program output as that is what you'll be using the most.\n",
        "\n",
        "The goal is to get you comfortable with working with outputs and variables. \n",
        "\n",
        "Lets try a basic print() command to print the string \"Hello World\""
      ],
      "metadata": {
        "id": "VHuzDFifZA8D"
      }
    },
    {
      "cell_type": "code",
      "execution_count": null,
      "metadata": {
        "id": "x7l894xFMdRq"
      },
      "outputs": [],
      "source": [
        "# print() is the most basic command used to display data in the computer's terminal. \n",
        "\n",
        "print('Hello World!')"
      ]
    },
    {
      "cell_type": "markdown",
      "source": [
        "And as you can see \"Hello World\" Is printed below the coding box. \n",
        "\n",
        "Were this a proper terminal you would see something like this...\n",
        "\n",
        "![Terminal Output.png](data:image/png;base64,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)\n",
        "\n",
        "This is Python running in a Linux bash terminal which you'll learn more about later, however it's not extremely important to know right now"
      ],
      "metadata": {
        "id": "yu09OCIIdFX7"
      }
    },
    {
      "cell_type": "markdown",
      "source": [
        "Anyways back to Input/Output. \n",
        "\n",
        "You can save a data to a variable and print the result as well. The data type does not matter when printing the data. "
      ],
      "metadata": {
        "id": "Za3agvLVegSz"
      }
    },
    {
      "cell_type": "code",
      "source": [
        "#Assigning a string to a variable\n",
        "string = \"The cat purs\"\n",
        "\n",
        "#Assigning an int to a variable\n",
        "x = 5\n",
        "\n",
        "#Assigning a double to a variable\n",
        "y = 2.5\n",
        "\n",
        "print(string)\n",
        "print(x)\n",
        "print(y)"
      ],
      "metadata": {
        "id": "BAz3oBgldbUl"
      },
      "execution_count": null,
      "outputs": []
    },
    {
      "cell_type": "markdown",
      "source": [
        "Now you can also print compound statements with the print command. For example, if I wanted to print variables string, x and y all in one line I could create a formatted string like this..."
      ],
      "metadata": {
        "id": "jx7NbO_9fn0g"
      }
    },
    {
      "cell_type": "code",
      "source": [
        "print(\"The string is:  '%s' the int is:   %s and the double is:   %s \" % (string, x, y))\n",
        "\n"
      ],
      "metadata": {
        "id": "41Qv9hKQf5pY"
      },
      "execution_count": null,
      "outputs": []
    },
    {
      "cell_type": "markdown",
      "source": [
        "As you can see the variables are in a parenthesis to the right of the formatted string. Why is this? \n",
        "\n",
        "In essence what this method does is creates a string with placeholders denoted by %s. What the print() function does when it sees this is fills in the place holder with variable that corresponds with the index of the place holder. \n",
        "\n",
        "In lamens terms, the first placeholder gets replaced with the first variable, the second with the second and so forth. \n",
        "\n",
        "Now lets try some basic user input. "
      ],
      "metadata": {
        "id": "td_5XjzAhB_-"
      }
    },
    {
      "cell_type": "code",
      "source": [
        "name = input(\"Pleas input your name: \")\n",
        "\n",
        "print(\"Hello %s nice to meet you\" % (name))"
      ],
      "metadata": {
        "id": "BZbn4X6Gf84-"
      },
      "execution_count": null,
      "outputs": []
    },
    {
      "cell_type": "markdown",
      "source": [
        "The input() function will take input from the user and generally should be saved to a variable as shown above\n",
        "\n",
        "The string that I put inside of the () denotes the message that will be printed prompting the user's input. \n",
        "\n",
        "Now lets try taking numerical input from the user"
      ],
      "metadata": {
        "id": "hu5hMCL9ior8"
      }
    },
    {
      "cell_type": "code",
      "source": [
        "number = input(\"Please input a number between 1 and 5: \")\n",
        "\n",
        "print(number)"
      ],
      "metadata": {
        "id": "LIpwKQqxjLWn"
      },
      "execution_count": null,
      "outputs": []
    },
    {
      "cell_type": "markdown",
      "source": [
        "Now in this case the above taking numeric input works the same as it did for taking a string as input. \n",
        "\n",
        "Or did it? Lets check to see what the data type of number is. "
      ],
      "metadata": {
        "id": "EiT-CBz1jUeV"
      }
    },
    {
      "cell_type": "code",
      "source": [
        "print(type(number))"
      ],
      "metadata": {
        "id": "ZNm5p__ejUOA"
      },
      "execution_count": null,
      "outputs": []
    },
    {
      "cell_type": "markdown",
      "source": [
        "As you can see, the variable 'number' has the type string. This is because the input() function takes strings as input and as such the return value of the function (what data is saved to the variable) is of type string. \n",
        "\n",
        "Now what problems can this pose?"
      ],
      "metadata": {
        "id": "IhdsWk5oj4wr"
      }
    },
    {
      "cell_type": "code",
      "source": [
        "print(number)"
      ],
      "metadata": {
        "id": "Zct3yqwqk660"
      },
      "execution_count": null,
      "outputs": []
    },
    {
      "cell_type": "markdown",
      "source": [
        "Okay, so printing the value works. Now lets try doing some basic addition with the number variable. "
      ],
      "metadata": {
        "id": "RobANP6rlTaR"
      }
    },
    {
      "cell_type": "code",
      "source": [
        "x = number + 1\n",
        "\n",
        "print(x)"
      ],
      "metadata": {
        "id": "_s8-a0pdlEMb"
      },
      "execution_count": null,
      "outputs": []
    },
    {
      "cell_type": "markdown",
      "source": [
        "And here we have the crux of the issue. When taking numeric data from input, we must be aware of what type the input is or we can run into issues. \n",
        "\n",
        "Now that we know we can't mix data types in this manner, how do we modify the input data so that we can use it to do math?\n",
        "\n",
        "Well we simply cast the data to the proper type. "
      ],
      "metadata": {
        "id": "jNygxqKSlg0V"
      }
    },
    {
      "cell_type": "code",
      "source": [
        "#This overwrites the initial value of number to be the return value of the int() function. In this case \n",
        "number = int(number)\n",
        "\n",
        "print(type(number))\n",
        "\n",
        "x = number + 1\n",
        "\n",
        "print(x)"
      ],
      "metadata": {
        "id": "IzaoUBZOkjgZ"
      },
      "execution_count": null,
      "outputs": []
    },
    {
      "cell_type": "markdown",
      "source": [
        "And as you can see casting the number variable to an int rectified that issue. Now we can use number in mathematical calculations. \n",
        "\n",
        "##You Try\n",
        "\n",
        "Now that you've seen the basics of input and output in Python, I want you to try to build something yourself. \n",
        "\n",
        "In the box below write a program that takes user input and saves the data to variables x and y. Add x and y together and divide them by 2. Save the value of this function to variable 'answer'. Display the answer in the terminal. "
      ],
      "metadata": {
        "id": "4LVqDXvskplC"
      }
    },
    {
      "cell_type": "code",
      "source": [
        "#TO DO"
      ],
      "metadata": {
        "id": "6-DkM2oAmxAL"
      },
      "execution_count": null,
      "outputs": []
    },
    {
      "cell_type": "markdown",
      "source": [
        "___________________________________________________________\n",
        "#Arrays, Loops and Conditionals\n",
        "\n"
      ],
      "metadata": {
        "id": "N_-90itJpf_h"
      }
    },
    {
      "cell_type": "markdown",
      "source": [
        "Arrays, Loops, and Conditionals are some of the most important concepts in programming. They are for lack of a better term the work horses that make most programs run correctly... assuming that they are correctly executed.\n",
        "\n",
        "For this I will begin with arrays. "
      ],
      "metadata": {
        "id": "-gVErn7xp4Go"
      }
    },
    {
      "cell_type": "markdown",
      "source": [
        "##Arrays (Technically lists but potato potato)\n",
        "\n",
        "Arrays are variables that can store multiple instances of data. This is done by having data stored at specific indicies of the variable. In other programming languages, you would need to declare the size of an array prior to filling it, in python this is not the case. \n",
        "\n",
        "Now lets take a look at how these work. "
      ],
      "metadata": {
        "id": "8T46hopiqPR2"
      }
    },
    {
      "cell_type": "code",
      "source": [
        "arr = [100,200,300]\n",
        "\n",
        "#In Colab it is not necessary to specify the print() function how it is good pratice to do so as only the last output will be shown if print() isn't specified\n",
        "\n",
        "arr"
      ],
      "metadata": {
        "colab": {
          "base_uri": "https://localhost:8080/"
        },
        "id": "ExhHs3mcqON1",
        "outputId": "ff0fd2d1-7e2f-401f-a971-7b43aaa5231b"
      },
      "execution_count": null,
      "outputs": [
        {
          "output_type": "execute_result",
          "data": {
            "text/plain": [
              "[100, 200, 300]"
            ]
          },
          "metadata": {},
          "execution_count": 60
        }
      ]
    },
    {
      "cell_type": "markdown",
      "source": [
        "As you can see, I delcared the array as arr, and assigned it to have the values 100, 200 and 300. I printed the entire array but how do we access single indecies of this data?\n",
        "\n",
        "Well its simple, we just call the array at the index we want.\n",
        "\n",
        "Note arrays begin at index 0 and continue to index n-1. This means if there are 10 values the range of indcies that will be populated will be 0 - 9. "
      ],
      "metadata": {
        "id": "VM1Dms6qry9g"
      }
    },
    {
      "cell_type": "code",
      "source": [
        "print(arr[0])\n",
        "print(arr[1])\n",
        "print(arr[2])"
      ],
      "metadata": {
        "colab": {
          "base_uri": "https://localhost:8080/"
        },
        "id": "il1dl-ldsJ56",
        "outputId": "88f8610c-a8bf-4d68-978e-705f4e1ecc1b"
      },
      "execution_count": null,
      "outputs": [
        {
          "output_type": "stream",
          "name": "stdout",
          "text": [
            "100\n",
            "200\n",
            "300\n"
          ]
        }
      ]
    },
    {
      "cell_type": "markdown",
      "source": [
        "As you can see we were able to print the values for each individual index of the array, however what happens if we try accessing an index that hasn't been assigned a value?"
      ],
      "metadata": {
        "id": "9nQkfx4esqEY"
      }
    },
    {
      "cell_type": "code",
      "source": [
        "print(arr[3])"
      ],
      "metadata": {
        "id": "wGipf684s3r9"
      },
      "execution_count": null,
      "outputs": []
    },
    {
      "cell_type": "markdown",
      "source": [
        "Simple, the program fails to execute as the value for that index hasn't been declared yet. \n",
        "\n",
        "Now let me show you some cool stuff we can do with arrays. "
      ],
      "metadata": {
        "id": "7wiPGRz4sxtf"
      }
    },
    {
      "cell_type": "code",
      "source": [
        "arr[0] += 1000\n",
        "\n",
        "arr[1] = arr[1] / 2\n",
        "\n",
        "arr[2] = (arr[0] * 2) / 1000\n",
        "\n",
        "arr"
      ],
      "metadata": {
        "colab": {
          "base_uri": "https://localhost:8080/"
        },
        "id": "ANIf7IfOtV3y",
        "outputId": "0021d3b7-f317-4979-9dbd-4a98013d9edf"
      },
      "execution_count": null,
      "outputs": [
        {
          "output_type": "execute_result",
          "data": {
            "text/plain": [
              "[1100, 100.0, 2.2]"
            ]
          },
          "metadata": {},
          "execution_count": 47
        }
      ]
    },
    {
      "cell_type": "markdown",
      "source": [
        "What I did was perform operations with the initial numbers and save them to each index. I can even use other indicies of the array in these computations as shown in the third line. Now at this point, the data is changed and the initial values were overwritten. If you wanted to keep the initial values you'd have to save the data to a new array. \n",
        "\n",
        "This can be done multiple ways. \n"
      ],
      "metadata": {
        "id": "zRf-qeqDt98v"
      }
    },
    {
      "cell_type": "code",
      "source": [
        "#Method 1: Copying the array before computation\n",
        "arr = [100,200,300]\n",
        "new_arr = []\n",
        "\n",
        "#The array.copy() function should be used as simply doing new_arr = arr will only build a link and as such the data in both will be changed when the computations are ran.\n",
        "new_arr = arr.copy()\n",
        "\n",
        "new_arr[0] += 1000\n",
        "new_arr[1] = new_arr[1] / 2\n",
        "new_arr[2] = (new_arr[0] * 2) / 1000\n",
        "\n",
        "print(arr)\n",
        "print(new_arr)\n"
      ],
      "metadata": {
        "id": "mf_ZFvmpusJ8"
      },
      "execution_count": null,
      "outputs": []
    },
    {
      "cell_type": "code",
      "source": [
        "#Method 2: Computing the data and saving to thenew array without copying\n",
        "\n",
        "arr = [100,200,300]\n",
        "new_arr = []\n",
        "\n",
        "new_arr = arr.copy()\n",
        "\n",
        "new_arr[0] = arr[0] + 1000\n",
        "new_arr[1] = arr[1] / 2\n",
        "new_arr[2] = (arr[0] * 2) / 1000\n",
        "\n",
        "print(arr)\n",
        "print(new_arr)\n"
      ],
      "metadata": {
        "id": "X9hSVnTBvdIL"
      },
      "execution_count": null,
      "outputs": []
    },
    {
      "cell_type": "markdown",
      "source": [
        "##Conditionals\n",
        "\n",
        "A conditional statement is a logical expression that when fufilled, does the action it is programmed to. In essence think of it like this, the conditional statement is like a lock and the data it checks is its key. \n",
        "\n",
        "There are two major ways to handle conditionals in python. \n",
        "\n",
        "*   if/else statements\n",
        "*   Switches.\n",
        "\n",
        "For now I will only go over the if/else statements and the power that they afford the user as they are the most common. \n",
        "\n",
        "So what is the structure of an if statement?"
      ],
      "metadata": {
        "id": "IyOcFhQDyawo"
      }
    },
    {
      "cell_type": "code",
      "source": [
        "#   if <condition> :\n",
        "#     <code to be run>\n",
        "#   else:\n",
        "#     <code to be run>"
      ],
      "metadata": {
        "id": "oFe1A-VG0YvG"
      },
      "execution_count": null,
      "outputs": []
    },
    {
      "cell_type": "markdown",
      "source": [
        "As you can see the the syntax is fairly straight forward so lets try an example. "
      ],
      "metadata": {
        "id": "_eJ4yNbo0_Qh"
      }
    },
    {
      "cell_type": "code",
      "source": [
        "x = 3\n",
        "y = 2\n",
        "\n",
        "if x == 3: \n",
        "  print(y)\n",
        "else:\n",
        "  print(\"Other Condition\")"
      ],
      "metadata": {
        "id": "AG6PDzfh0-xf"
      },
      "execution_count": null,
      "outputs": []
    },
    {
      "cell_type": "markdown",
      "source": [
        "So in practice you can see that there is some nuiance to creating the condition it's self. You may be asking why I wrote == instead of a single =. This is because conditional statements use logical operators. Python simplifies these logical operators when compared to other languages choosing plain english instead, however some of the symbolic ones still remain. Here's a list to help you. \n",
        "\n",
        "\n",
        "\n",
        "\n",
        "\n",
        "\n"
      ],
      "metadata": {
        "id": "mpFYiS6X1WEH"
      }
    },
    {
      "cell_type": "code",
      "source": [
        "#   and (&& in other languages)\n",
        "#   or (|| in other languages)\n",
        "#   not (! in other languages)\n",
        "#   == (Equals)\n",
        "#   > (Less than)\n",
        "#   < (Greater Than)\n",
        "#   >= (Less than or equal to)\n",
        "#   <= (Greater than or equal to)\n"
      ],
      "metadata": {
        "id": "mxrB2hny26H6"
      },
      "execution_count": null,
      "outputs": []
    },
    {
      "cell_type": "markdown",
      "source": [
        "With these statements we can write code for almost any condition imaginable. So lets look at some examples of what we can do and then lets try some on your own. "
      ],
      "metadata": {
        "id": "iIDPRH8_3iBO"
      }
    },
    {
      "cell_type": "code",
      "source": [
        "#Checking to see if an array contains a number in range 1-10. \n",
        "\n",
        "def contains(arr, num):\n",
        "  contains=False\n",
        "  for x in arr:\n",
        "    if x == num:\n",
        "      contains=True\n",
        "  if contains == True:\n",
        "    print(\"The array contains a %s\" % num)\n",
        "  else:\n",
        "    print(\"The array doesn't contain a %s\" % num)\n",
        "\n",
        "arr = [1,2,6,4,2]\n",
        "\n",
        "\n",
        "#Note: Range is not inclusive, if you wish to reach a given number n, the maximum must be n+1. More on that later. \n",
        "for x in range(1,11):\n",
        "  contains(arr, x)\n",
        "\n",
        "      \n"
      ],
      "metadata": {
        "id": "5n7Yg7TI3cAl"
      },
      "execution_count": null,
      "outputs": []
    },
    {
      "cell_type": "code",
      "source": [
        "#Checking to see if an array doesn't contain a value using modified contains function\n",
        "\n",
        "def contains(arr, num):\n",
        "  contains=False\n",
        "  for x in arr:\n",
        "    if x == num:\n",
        "      contains=True\n",
        "  return contains\n",
        "\n",
        "arr = [123,1243,12123,64533]\n",
        "\n",
        "if not contains(arr, 123):\n",
        "  print(\"doesn't contain\")\n",
        "else:\n",
        "  print(\"contains\")\n"
      ],
      "metadata": {
        "id": "m1FGjzhp8Xgg"
      },
      "execution_count": null,
      "outputs": []
    },
    {
      "cell_type": "markdown",
      "source": [
        "Quick note about return values. In functions, denoted by the *def* key word you can return a value that you created in that function. In this case I returned a boolean value, however you can also return string and numeric values as well. I will go over this more later on. "
      ],
      "metadata": {
        "id": "NT6Go04U-A1v"
      }
    },
    {
      "cell_type": "code",
      "source": [
        "#Checking to see if an array contains either x or y\n",
        "\n",
        "def contains(arr, num):\n",
        "  contains=False\n",
        "  for x in arr:\n",
        "    if x == num:\n",
        "      contains=True\n",
        "  return contains\n",
        "\n",
        "arr = [123,1243,12123,64533]\n",
        "x = 123\n",
        "y = 1234534\n",
        "\n",
        "if contains(arr, x) or contains(arr, y):\n",
        "  print(\"The array contains a value\")\n",
        "else:\n",
        "  print(\"The array doesn't contain a value\")"
      ],
      "metadata": {
        "id": "-0Wns6zt-cRf"
      },
      "execution_count": null,
      "outputs": []
    },
    {
      "cell_type": "markdown",
      "source": [
        "A note about logical or. The statement will be true if either condition is fufilled. In this case, x is contained in the array, but y is not, yet it still reads as true. Lets run the same code but change or to and. "
      ],
      "metadata": {
        "id": "ydnDQthb-8fe"
      }
    },
    {
      "cell_type": "code",
      "source": [
        "#Checking to see if an array contains both x and y\n",
        "\n",
        "def contains(arr, num):\n",
        "  contains=False\n",
        "  for x in arr:\n",
        "    if x == num:\n",
        "      contains=True\n",
        "  return contains\n",
        "\n",
        "arr = [123,1243,12123,64533]\n",
        "x = 123\n",
        "y = 1234534\n",
        "\n",
        "if contains(arr, x) and contains(arr, y):\n",
        "  print(\"The array contains both values\")\n",
        "else:\n",
        "  print(\"The array doesn't contain both values\")"
      ],
      "metadata": {
        "id": "yAGtzTHg_KYJ"
      },
      "execution_count": null,
      "outputs": []
    },
    {
      "cell_type": "markdown",
      "source": [
        "Now lets see one last example that runs checks for a constantly changing variable. "
      ],
      "metadata": {
        "id": "kHPJIK-G_pf3"
      }
    },
    {
      "cell_type": "code",
      "source": [
        "#Function to find the highest divisor without a remainder in range 1-100. \n",
        "def highest(num):\n",
        "  high = 1\n",
        "  for x in range(1,101):\n",
        "    temp = num / x\n",
        "    #Check for remainder\n",
        "    if temp % 1 == 0:\n",
        "      high = x\n",
        "  return high\n",
        "\n",
        "\n",
        "print(highest(5125))\n",
        "print(highest(20121254))\n",
        "\n",
        "#NOTE: the modulo operator % divides the number to the left by the number on the right and returns the remainder. If you do this by 1 you can check if a number has a decimal\n",
        "\n",
        "#NOTE: This is not the highest possible divisor, rather the highest possible divisor that is between 1 and 100 that has no remainder. "
      ],
      "metadata": {
        "colab": {
          "base_uri": "https://localhost:8080/"
        },
        "id": "42ORruIs_pLg",
        "outputId": "4f19fc6f-5539-4234-8c27-f011f7e43111"
      },
      "execution_count": null,
      "outputs": [
        {
          "output_type": "stream",
          "name": "stdout",
          "text": [
            "41\n",
            "2\n",
            "\n"
          ]
        }
      ]
    },
    {
      "cell_type": "markdown",
      "source": [
        "##Loops\n",
        "\n",
        "There are 2 kinds of loops in python:\n",
        "* For loops\n",
        "* While loops\n",
        "\n",
        "###For Loops\n",
        "For loops will run the code that is within it for a certain pre-defined number of repetitions. The number of repetitions can be given in multiple ways. \n",
        "\n",
        "\n",
        "1.   As a single number\n",
        "  - This will begin on index 0 and continue until it hits n - 1\n",
        "2.   As a range of numbers\n",
        "  - This will begin on the starting index, and end on n - 1\n",
        "3.   As number of values in an array\n",
        "  - This will begin on the first index of the array and continue until it ends.\n",
        "\n",
        "Each of these methods have their strengths. So allow me to show you a few examples. \n",
        "\n",
        "\n"
      ],
      "metadata": {
        "id": "5te2jdNJxou8"
      }
    },
    {
      "cell_type": "code",
      "source": [
        "#Method 1: As a single number\n",
        "\n",
        "for x in range(10): \n",
        "  print(x)"
      ],
      "metadata": {
        "id": "9lVCw1y0x4em"
      },
      "execution_count": null,
      "outputs": []
    },
    {
      "cell_type": "code",
      "source": [
        "#Method 2: As a range of numbers\n",
        "\n",
        "for x in range(3, 10): \n",
        "  print(x)"
      ],
      "metadata": {
        "id": "E1bKHsk0zpIn"
      },
      "execution_count": null,
      "outputs": []
    },
    {
      "cell_type": "code",
      "source": [
        "#Method 3: As an array\n",
        "\n",
        "for x in arr:\n",
        "  print (x)"
      ],
      "metadata": {
        "id": "RKAqUmkbzpcm"
      },
      "execution_count": null,
      "outputs": []
    },
    {
      "cell_type": "markdown",
      "source": [
        "Now what you see is just the loop it's self. Variable x can be used in computation but it doesn't strictly have to be. Below are some examples of things you can do with a for loop that don't strictly involve the index. "
      ],
      "metadata": {
        "id": "8myQYfmm0qm0"
      }
    },
    {
      "cell_type": "code",
      "source": [
        "#Printing a string and passing x to the function\n",
        "def hello(num):\n",
        "  print(\"Hello %s\" % (num))\n",
        "\n",
        "for x in range(10):\n",
        "  hello(x)"
      ],
      "metadata": {
        "id": "sdj0LP6I0qEM"
      },
      "execution_count": null,
      "outputs": []
    },
    {
      "cell_type": "code",
      "source": [
        "#Creating a function to count the number of values in an array\n",
        "def counter(arr):\n",
        "  counter = 0\n",
        "  for x in arr:\n",
        "      counter +=1\n",
        "  return counter\n",
        "\n",
        "\n",
        "counter(arr)"
      ],
      "metadata": {
        "id": "texm3jK30-mL"
      },
      "execution_count": null,
      "outputs": []
    },
    {
      "cell_type": "code",
      "source": [
        "#Nested for loops\n",
        "\n",
        "for x in range(4):\n",
        "  for y in range(4):\n",
        "    print(\"x = %s  y = %s\" % (x,y))"
      ],
      "metadata": {
        "id": "6mu1Wka59xDk"
      },
      "execution_count": null,
      "outputs": []
    },
    {
      "cell_type": "markdown",
      "source": [
        "As I hope you can see for loops are exremely powerful tools that can be uset to accomplish a variety of different tasks. \n",
        "\n",
        "Note: Using nested for loops for large amounts of computations will increase the run time of the program greatly.\n",
        "\n",
        "##While Loops\n",
        "\n",
        "While loops function similarly to for loops, however with one key difference. They utalize a conditional statement and will continue to loop while boolean (true or false) condition is met.\n",
        "\n",
        "A good way to think about it is like this.\n",
        "\n",
        "While I am hungry I will continue to eat. When I realize that I am no longer hungry, I will stop eathing. \n",
        "\n",
        "So lets see how this works in code"
      ],
      "metadata": {
        "id": "yiUg9cI32FKT"
      }
    },
    {
      "cell_type": "code",
      "source": [
        "count = 0\n",
        "while count < 6: \n",
        "  print(\"The count is: %s\" % (count))\n",
        "  count += 1"
      ],
      "metadata": {
        "colab": {
          "base_uri": "https://localhost:8080/"
        },
        "id": "lRe9T4l_4lfn",
        "outputId": "8d0a4e5e-fa7a-43ff-8e76-58bbb5333d5f"
      },
      "execution_count": null,
      "outputs": [
        {
          "output_type": "stream",
          "name": "stdout",
          "text": [
            "The count is: 0\n",
            "The count is: 1\n",
            "The count is: 2\n",
            "The count is: 3\n",
            "The count is: 4\n",
            "The count is: 5\n"
          ]
        }
      ]
    },
    {
      "cell_type": "markdown",
      "source": [
        "Well that implementation seems rather similar to the For loop doesn't it?\n",
        "\n",
        "While loops can be implemented with a counter but that defeats the purpose. Ideally you wouldn't purposefully use a counter for these, rather you'd use a parameter that is being changed in the while loop, and will continue to be acted upon until the condition is satisfied.  \n",
        "\n",
        "Here's a few applications of the While loop"
      ],
      "metadata": {
        "id": "e2iy-93b5TMS"
      }
    },
    {
      "cell_type": "code",
      "source": [
        "#Continue to divide number by 2 until the division has a remainder. \n",
        "\n",
        "x = 1200\n",
        "\n",
        "#The modulo operator % allows us to find the remainder of division. If a decimal is divided by 1 there will be a remainder thus breaking the condition\n",
        "while x % 1 == 0:\n",
        "  print(x)\n",
        "  x = x/2\n",
        "\n",
        "print(\"The last division yeilded: %s\" % (x))"
      ],
      "metadata": {
        "id": "Z2gN-dGX6N-l"
      },
      "execution_count": null,
      "outputs": []
    },
    {
      "cell_type": "code",
      "source": [
        "#Create an infinite loop that only breaks when a conditional is reached. \n",
        "\n",
        "while True: \n",
        "  x = input(\"Do you wish to continue? Y/N \")\n",
        "  if x in[\"Y\", \"y\"]:\n",
        "    continue\n",
        "  else:\n",
        "    print(\"Program Exited\")\n",
        "    break"
      ],
      "metadata": {
        "id": "Mq-XqPv08qcj"
      },
      "execution_count": null,
      "outputs": []
    },
    {
      "cell_type": "markdown",
      "source": [
        "It should be noted that if the conditionals in a while loop are done incorrectly, the program will loop infinitely. It is important to keep that in mind. "
      ],
      "metadata": {
        "id": "IK_UiYve75bD"
      }
    },
    {
      "cell_type": "markdown",
      "source": [
        "-------------\n",
        "#Defining Functions"
      ],
      "metadata": {
        "id": "__yUai9LCuv0"
      }
    },
    {
      "cell_type": "markdown",
      "source": [
        "As you've seen in my code I've written functions that take values and do something with them, however I have yet to explain it in full. Up until this point, we've primarily focused on scripting (Minus some of my code chunks). However functions break away from this idea, and follow a more Object Oriented design. \n",
        "\n",
        "In Python functions allow us to reuse chunks of code for different values. It should be noted that functions are powerful tools but they are not necessary for a Python program to function. \n",
        "\n",
        "A return value is the value that the function will return if programmed to. This value is a variable that must be defined in the function. You can use this return value in operations, other functions, or save it to a variable. \n",
        "\n",
        "But enough about the theory, lets get into writing some functions.\n",
        "\n",
        "The syntax is as follows:"
      ],
      "metadata": {
        "id": "Z35Oj2XPC1RZ"
      }
    },
    {
      "cell_type": "code",
      "source": [
        "# def <name>(<passed value1>, <passed value2>):\n",
        "#   <code>"
      ],
      "metadata": {
        "id": "TgnroZexERCk"
      },
      "execution_count": null,
      "outputs": []
    },
    {
      "cell_type": "markdown",
      "source": [
        "Note: It is important to indent all lines that belong to the function or the interpriter wont recognize that the code is a part of the function. \n",
        "\n",
        "Now for an example. "
      ],
      "metadata": {
        "id": "RMd1_ohREuAr"
      }
    },
    {
      "cell_type": "code",
      "source": [
        "def printer(count):\n",
        "  print(count)\n",
        "\n",
        "def counter(arr):\n",
        "  count = 0\n",
        "  for x in arr:\n",
        "    count += 1\n",
        "  return count\n",
        "\n",
        "#Using return value in another funciton\n",
        "arr = [1,2,3]\n",
        "printer(counter(arr))\n",
        "strarr = [\"The cat purrs\"]\n",
        "printer(counter(strarr))\n",
        "\n",
        "#Saving return value to variable\n",
        "strarr = [\"The dog is good\"]\n",
        "count = counter(strarr)\n",
        "print(count)\n",
        "\n",
        "#Doing operations with the return value\n",
        "count2 = counter(strarr) - 5\n",
        "print(count2)\n"
      ],
      "metadata": {
        "colab": {
          "base_uri": "https://localhost:8080/"
        },
        "id": "yoWOqpGaFExH",
        "outputId": "25af05a4-62ca-41b8-f902-f8783a424863"
      },
      "execution_count": null,
      "outputs": [
        {
          "output_type": "stream",
          "name": "stdout",
          "text": [
            "3\n",
            "13\n",
            "15\n",
            "10\n"
          ]
        }
      ]
    },
    {
      "cell_type": "markdown",
      "source": [
        "---\n",
        "#Tying it all together\n",
        "\n",
        "\n",
        "So in this practice problem you will create two functions. \n",
        "\n",
        "The first takes an array as its argument. It should iterate through the array and add the values at each index together. This function should return the the variable total containing the sum of all values in the array. \n",
        "\n",
        "In the main function, add each of the return values to an index of the array 'totals' using the python array.append() function. Print the final values of this array. \n",
        "\n",
        "The second function takes the 'totals' array as it's argument. This function should add the values of the 'totals' array together in a similar manner to the first function and check to see if the sum of the totals array is larger than 280. If it is, print \"success\". if not print \"failure\"\n",
        "\n",
        "I will provide some starter code to ease the proess. "
      ],
      "metadata": {
        "id": "4ie6o39OG8QL"
      }
    },
    {
      "cell_type": "code",
      "source": [
        "import numpy as np\n",
        "\n",
        "def counter(arr):\n",
        "  total = 0\n",
        "\n",
        "  #TO DO\n",
        "\n",
        "  return total\n",
        "\n",
        "def total_counter(totals):\n",
        "  sum = 0\n",
        "  \n",
        "  #TO DO\n",
        "\n",
        "\n",
        "def main():\n",
        "  totals = []\n",
        "  for x in range(0,5):\n",
        "    arr = np.random.random_integers(1,10,10)\n",
        "    totals.append(counter(arr))\n",
        "  #TO DO\n",
        "\n",
        "\n",
        "\n",
        "\n",
        "if __name__ == \"__main__\":\n",
        "  main()"
      ],
      "metadata": {
        "colab": {
          "base_uri": "https://localhost:8080/"
        },
        "id": "h03X98HVG70X",
        "outputId": "0bb45b2a-72bb-464a-8516-6a0102fbb45d"
      },
      "execution_count": null,
      "outputs": [
        {
          "output_type": "stream",
          "name": "stdout",
          "text": [
            "[61, 57, 56, 52, 63]\n",
            "success\n"
          ]
        },
        {
          "output_type": "stream",
          "name": "stderr",
          "text": [
            "/usr/local/lib/python3.7/dist-packages/ipykernel_launcher.py:24: DeprecationWarning: This function is deprecated. Please call randint(1, 10 + 1) instead\n"
          ]
        }
      ]
    },
    {
      "cell_type": "code",
      "source": [],
      "metadata": {
        "id": "upmuOr99Ke_x"
      },
      "execution_count": null,
      "outputs": []
    }
  ]
}